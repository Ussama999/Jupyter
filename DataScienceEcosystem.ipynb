{
 "cells": [
  {
   "cell_type": "markdown",
   "id": "b90d64b2-a5d6-4c61-9036-290623949bd3",
   "metadata": {},
   "source": [
    "# Data Science Tools and Ecosystem"
   ]
  },
  {
   "cell_type": "markdown",
   "id": "709bf593-c4cb-4fe9-8748-c1aafd726224",
   "metadata": {},
   "source": [
    "In this notebook, Data Science Tools and Ecosystem are summarized."
   ]
  },
  {
   "cell_type": "markdown",
   "id": "299bd05e-de8f-46f9-aca1-41f0eba34e47",
   "metadata": {},
   "source": [
    "Some of the popular languages that Data Scientists use are:\n",
    "1. Python\n",
    "2. R\n",
    "3. SQL\n"
   ]
  },
  {
   "cell_type": "markdown",
   "id": "cd2ca4dd-0eb0-4258-bdf4-114ec7a95fd6",
   "metadata": {},
   "source": [
    "Some of the commonly used libraries used by Data Scientists include:\n",
    "1. Pandas - for data manipulation and analysis.\n",
    "2. NumPy - for numerical computing with Python.\n",
    "3. Matplotlib - for creating static, interactive, and animated visualizations in Python.\n",
    "4. Scikit-learn - for machine learning and statistical modeling including classification, regression, clustering, and dimensionality reduction.\n"
   ]
  },
  {
   "cell_type": "markdown",
   "id": "b8112516-cceb-4bdc-882a-74a3ae3e7477",
   "metadata": {},
   "source": [
    "| Data Science Tools |\n",
    "|--------------------|\n",
    "| Jupyter Notebook   |\n",
    "| RStudio            |\n",
    "| Apache Zeppelin    |\n"
   ]
  },
  {
   "cell_type": "markdown",
   "id": "42a7bcbb-6cc8-4be1-9fd3-7114940a4517",
   "metadata": {},
   "source": [
    "### Below are a few examples of evaluating arithmetic expressions in Python."
   ]
  },
  {
   "cell_type": "code",
   "execution_count": 1,
   "id": "bc4ddbb3-4210-4bda-8247-c64328f65a7d",
   "metadata": {
    "tags": []
   },
   "outputs": [
    {
     "data": {
      "text/plain": [
       "17"
      ]
     },
     "execution_count": 1,
     "metadata": {},
     "output_type": "execute_result"
    }
   ],
   "source": [
    "# This is a simple arithmetic expression to multiply and add integers\n",
    "result = (3 * 4) + 5\n",
    "result\n"
   ]
  },
  {
   "cell_type": "code",
   "execution_count": 2,
   "id": "d487d954-857e-4319-bfaa-2e8c5e2fca1f",
   "metadata": {
    "tags": []
   },
   "outputs": [
    {
     "data": {
      "text/plain": [
       "3.3333333333333335"
      ]
     },
     "execution_count": 2,
     "metadata": {},
     "output_type": "execute_result"
    }
   ],
   "source": [
    "# This convert 200 minutes to hours by dividing by 60\n",
    "hours = 200 / 60\n",
    "hours\n"
   ]
  },
  {
   "cell_type": "markdown",
   "id": "c39d8caf-d877-4d0f-9326-a49e559c51a6",
   "metadata": {},
   "source": [
    "**Objectives:**\n",
    "\n",
    "- Understand the use of popular languages in data science such as Python, R, and SQL.\n",
    "- Explore key data science tools and environments like Jupyter Notebook, RStudio, and Apache Zeppelin.\n",
    "- Learn about essential data science libraries including Pandas, NumPy, and Matplotlib.\n",
    "- Introduction to basic arithmetic operations and conversions in Python.\n",
    "- Review of best practices in creating and formatting Markdown cells in Jupyter.\n"
   ]
  },
  {
   "cell_type": "markdown",
   "id": "a4281292-a563-4657-b420-d08b83662247",
   "metadata": {},
   "source": [
    "## Author\n",
    "Ossama Chaouni"
   ]
  },
  {
   "cell_type": "code",
   "execution_count": null,
   "id": "4ec6ff91-2669-40c4-820f-67fd89ee3964",
   "metadata": {},
   "outputs": [],
   "source": []
  }
 ],
 "metadata": {
  "kernelspec": {
   "display_name": "Python",
   "language": "python",
   "name": "conda-env-python-py"
  },
  "language_info": {
   "codemirror_mode": {
    "name": "ipython",
    "version": 3
   },
   "file_extension": ".py",
   "mimetype": "text/x-python",
   "name": "python",
   "nbconvert_exporter": "python",
   "pygments_lexer": "ipython3",
   "version": "3.7.12"
  }
 },
 "nbformat": 4,
 "nbformat_minor": 5
}
